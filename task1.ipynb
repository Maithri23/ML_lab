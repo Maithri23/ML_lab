import pandas as pd
import matplotlib.pyplot as plt
import seaborn as sns

# Load CSV file (TC_marks.csv)
data = pd.read_csv("TC marks.csv")

# Compute correlation between Internal and External marks
correlation_matrix = data[['Internal', 'External']].corr()
print("\nCorrelation Matrix:\n", correlation_matrix)

# Function to categorize marks
def categorize_marks(mark):
    if mark > 85:
        return "Above 85"
    elif 60 <= mark <= 84:
        return "Between 60 and 84"
    else:
        return "Below 60"

# Apply function to classify students based on Total marks
data['Marks Category'] = data['Total'].apply(categorize_marks)

# Compute frequency of each category
category_counts = data['Marks Category'].value_counts()

# Generate Pie Chart
plt.figure(figsize=(8, 5))
category_counts.plot(kind='pie', autopct='%1.1f%%', startangle=90, colors=sns.color_palette('pastel'))
plt.title("Pie Chart of Marks Distribution")
plt.ylabel("")  # Remove y-axis label
plt.show()

